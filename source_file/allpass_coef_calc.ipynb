{
 "cells": [
  {
   "cell_type": "markdown",
   "id": "c4527201-4999-4518-a392-8efbdf2c139c",
   "metadata": {},
   "source": [
    "## setup"
   ]
  },
  {
   "cell_type": "code",
   "execution_count": null,
   "id": "67eccd9b-ed88-4a45-8ff7-4fe5a5aedc20",
   "metadata": {},
   "outputs": [],
   "source": [
    "import numpy as np\n",
    "import pandas as pd\n",
    "import matplotlib.pyplot as plt"
   ]
  },
  {
   "cell_type": "code",
   "execution_count": null,
   "id": "d334db32-478f-44b9-9443-f67ea4f90746",
   "metadata": {},
   "outputs": [],
   "source": [
    "N_TAPS = 512\n",
    "sample_rate = 24000"
   ]
  },
  {
   "cell_type": "markdown",
   "id": "fba6fe0d-17f3-4ed4-8eea-3cc5325f5dc5",
   "metadata": {},
   "source": [
    "## load speaker response data"
   ]
  },
  {
   "cell_type": "code",
   "execution_count": null,
   "id": "d2f0dfe1-8eaa-4d2f-ba0e-d49b6a0a5ec6",
   "metadata": {},
   "outputs": [],
   "source": [
    "measured_response = pd.read_csv('spkr_response.csv').drop(columns=['Impedance'])\n",
    "measured_response = measured_response[(measured_response['Freq'] > 30) & (measured_response['Freq'] < sample_rate/2)]\n",
    "measured_response['Phase'] = measured_response['Phase'] * np.pi/180\n",
    "target_response = pd.DataFrame(np.array([[1, 0]]), columns=['Freq', 'Phase'])._append(measured_response, ignore_index=True)\n",
    "target_response\n",
    "\n",
    "phase_plot = plt.semilogx(target_response['Freq'], target_response['Phase'])\n",
    "plt.xlabel('freq (Hz)')\n",
    "plt.ylabel('phase (radians)')\n",
    "plt.title('measured speaker response')\n",
    "plt.grid()\n",
    "plt.grid(which='both', axis='x')"
   ]
  },
  {
   "cell_type": "markdown",
   "id": "59941968-91b6-4e1b-8018-aa53e1b9fbb9",
   "metadata": {},
   "source": [
    "# calculate FIR coefficients"
   ]
  },
  {
   "cell_type": "code",
   "execution_count": null,
   "id": "92873c27-b8e6-4961-8995-0c2ef373880c",
   "metadata": {},
   "outputs": [],
   "source": [
    "# interpolate phase measurements to linear freq intervals\n",
    "k = np.linspace(0, sample_rate/2, N_taps, endpoint=False)\n",
    "interpolated_phase = np.interp(k, target_response['Freq'], target_response['Phase'])\n",
    "\n",
    "# plt.plot((freqs*sample_rate)[:50], interpolated_phase[:50])\n",
    "# plt.title('interpolated phase samples')"
   ]
  },
  {
   "cell_type": "code",
   "execution_count": null,
   "id": "e3e080b1-7ebd-4218-9e77-68379cc03c1b",
   "metadata": {},
   "outputs": [],
   "source": [
    "mag = np.ones(N_taps)\n",
    "phase = interpolated_phase\n",
    "# phase = np.random.rand(N_taps)*2*np.pi\n",
    "\n",
    "# calculate specturum & allpass filter coeffs\n",
    "spectrum = mag*np.exp(phase * 1j)\n",
    "coeffs = np.fft.irfft(spectrum)"
   ]
  },
  {
   "cell_type": "code",
   "execution_count": null,
   "id": "d325c187-9d29-49e2-8f4d-0af092d70374",
   "metadata": {},
   "outputs": [],
   "source": [
    "# test via impulse response\n",
    "impulse = np.zeros(256, dtype=np.float64)\n",
    "impulse[256//2] = 1.0\n",
    "result = np.convolve(impulse, coeffs, \"same\")\n",
    "mag_result = np.absolute(np.fft.rfft(result))\n",
    "arg_result = np.angle(np.fft.rfft(result))\n",
    "\n",
    "\n",
    "plt.plot(mag_result, label='magnitude')\n",
    "plt.plot(arg_result, label='phase')\n",
    "plt.legend()\n",
    "plt.title(\"unit sample response\")"
   ]
  },
  {
   "cell_type": "code",
   "execution_count": null,
   "id": "2c843e4b-2002-4dc8-ab73-402333a6231d",
   "metadata": {},
   "outputs": [],
   "source": [
    "plt.figure(figsize=(12, 4))\n",
    "plt.plot(k, phase % (2*np.pi), label='target')\n",
    "plt.plot(k, arg_result[:-1] % (2*np.pi), label='result')\n",
    "plt.legend()"
   ]
  },
  {
   "cell_type": "code",
   "execution_count": null,
   "id": "f3da577a-dc88-4c4c-b85e-63653c74392a",
   "metadata": {},
   "outputs": [],
   "source": [
    "error = ((phase % (2*np.pi)) - (arg_result[:N_taps] % (2*np.pi)))\n",
    "error = np.minimum(np.abs(error), 2*np.pi - np.abs(error))\n",
    "plt.plot(k, error)"
   ]
  },
  {
   "cell_type": "markdown",
   "id": "a5b94a2b-b614-4bd1-b381-f9f686a279ec",
   "metadata": {},
   "source": [
    "## final coefficients"
   ]
  },
  {
   "cell_type": "code",
   "execution_count": null,
   "id": "cd97dac7-10cd-4887-87a3-02ea3e53876a",
   "metadata": {},
   "outputs": [],
   "source": [
    "print(\"coefficients:\\n\", coeffs)"
   ]
  },
  {
   "cell_type": "code",
   "execution_count": null,
   "id": "0f25060f-1e31-4cd6-9c79-d6c6d38d0746",
   "metadata": {},
   "outputs": [],
   "source": []
  }
 ],
 "metadata": {
  "kernelspec": {
   "display_name": "Python 3 (ipykernel)",
   "language": "python",
   "name": "python3"
  },
  "language_info": {
   "codemirror_mode": {
    "name": "ipython",
    "version": 3
   },
   "file_extension": ".py",
   "mimetype": "text/x-python",
   "name": "python",
   "nbconvert_exporter": "python",
   "pygments_lexer": "ipython3",
   "version": "3.11.4"
  }
 },
 "nbformat": 4,
 "nbformat_minor": 5
}
